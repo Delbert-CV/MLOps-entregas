{
 "cells": [
  {
   "cell_type": "markdown",
   "id": "c5b065f9",
   "metadata": {},
   "source": [
    "## Equipo 48\n",
    "\n",
    "| Nombre | Matrícula |\n",
    "| ------ | --------- |\n",
    "| André Zaragoza  | A01797076 |\n",
    "| Héctor Santillán | A01633395 |\n",
    "| Pablo de Jesus González | A01321850 |\n",
    "| Delbert Custodio | A01795613 |\n",
    "| Abel Diaz | A00566705 |"
   ]
  },
  {
   "cell_type": "markdown",
   "id": "fb815493",
   "metadata": {},
   "source": [
    "# Dataset a trabajar: Seoul Bike Sharing Demand"
   ]
  },
  {
   "cell_type": "markdown",
   "id": "7fd647a9",
   "metadata": {},
   "source": [
    "El dataset conocido como `Seoul Bike Sharing Demand` es una serie de registros los cuales fueron recabados en Febrero de 2020. El dataset contiene 13 columnas y 8760 registros en su formato original.\n",
    "\n",
    "Las columnas o features que se encuentran en el dataset son los siguientes:\n",
    "\n",
    "| Feature | Tipo | Notas |\n",
    "| ------- | ---- | ----- |\n",
    "| Date    | Temporal | Contiene la fecha en que se llevó a cabo un registro. Su formato es DD-MM-YYYY. |\n",
    "| Rented Bike Count | Entero | Muestra la cantidad de bicicletas que se rentaron a cierta hora en cierta fecha. |\n",
    "| Hour    | Temporal | Es la hora del día en que se registraron la cantidad de bicicletas rentadas respecto a la hora anterior. |\n",
    "| Temperature(°C) | Continua | Es la temperatura en grados Celsius que se registró en cierta fecha y hora del ambiente. |\n",
    "| Humidity(%) | Entero | Es la humedad relativa del ambiente (en %) registrada en la fecha y hora del registro. |\n",
    "| Wind speed (m/s) | Continua | La velocidad del viento en m/s registrada en la fecha y hora correspondientes. |\n",
    "| Visibility (10m) | Entero | Visibilidad en factores de 10 metros. |\n",
    "| Dew point temperature(°C) | Continua | Es la temperatura en la cual el aire se satura de humedad. |\n",
    "| Solar Radiation (MJ/m²)  | Continua | Cantidad o medida de radiación solar absorbida por unidad de área. | \n",
    "| Rainfall(mm) | Continua | Cantidad de lluvia registrada en milimetros. |\n",
    "| Snowfall (cm) | Continua | Cantidad de nieve registrada, en milimetros. | \n",
    "| Seasons | Categorica, nominal. | La época o temporada del año. |\n",
    "| Holiday | Binaria o Booleana | Indica si la fecha registada es una festividad. |\n",
    "| Functioning Day | Binaria. | Indica si el servicio de renta de bicicletas operó o no en la fecha indicada. |\n",
    "\n",
    "<br>\n",
    "<br>\n",
    "\n",
    "Respecto al dataset modificado, podemos encontrar una columna extra:\n",
    "\n",
    "| Feature | Tipo | Notas |\n",
    "| ------- | ---- | ----- |\n",
    "| mixed_type_col | Desconocida | Debemos analizar la columna en nuestro EDA. |"
   ]
  },
  {
   "cell_type": "markdown",
   "id": "1bada984",
   "metadata": {},
   "source": [
    "# Problemática a resolver"
   ]
  },
  {
   "cell_type": "markdown",
   "id": "173b3c2f",
   "metadata": {},
   "source": [
    "Según la página de UCI sobre el dataset original, se introdujo la posibilidad de rentar bicicletas en distintas ciudades para mejorar la movilidad dentro de las zonas urbanas. Con esto, un aspecto importante es poder suplir la demanda de bicicletas que se puedan rentar a cualquier hora del día, ya que:\n",
    "\n",
    "- El esperar mucho tiempo para rentar una bicicleta puede causar que el uso de éstas se reduzca.\n",
    "- Utilizar una bicicleta para moverse dentro de una ciudad reduce el tráfico vehicular para evitar congestionamientos, por lo que es un indispensable cubrir la demanda de bicicletas que se necesiten durante el día y sobre todo a horas pico.\n",
    "\n",
    "Por lo anterior, el dataset produce una base sólida para trabajar un modelo de regresión que pueda predecir la demanda de bicicletas que se tendrá por cada hora del día. Esta predicción ayudará a que las autoridades puedan mantener una oferta de bicicletas acorde a las necesidades de la población, y a planificar de mejor manera la cantida de bicicletas a adquirir y dar mantenimiento.\n",
    "\n",
    "Por lo tanto, la variable a predecir para resolver la problemática es `Rented_Bike_Count`."
   ]
  },
  {
   "cell_type": "markdown",
   "id": "5471b60a",
   "metadata": {},
   "source": [
    "# Inicialización y Carga de Datos "
   ]
  },
  {
   "cell_type": "code",
   "execution_count": 16,
   "id": "67165894",
   "metadata": {},
   "outputs": [
    {
     "name": "stdout",
     "output_type": "stream",
     "text": [
      "Dataset cargado exitosamente. Las primeras 5 filas:\n"
     ]
    },
    {
     "data": {
      "text/html": [
       "<div>\n",
       "<style scoped>\n",
       "    .dataframe tbody tr th:only-of-type {\n",
       "        vertical-align: middle;\n",
       "    }\n",
       "\n",
       "    .dataframe tbody tr th {\n",
       "        vertical-align: top;\n",
       "    }\n",
       "\n",
       "    .dataframe thead th {\n",
       "        text-align: right;\n",
       "    }\n",
       "</style>\n",
       "<table border=\"1\" class=\"dataframe\">\n",
       "  <thead>\n",
       "    <tr style=\"text-align: right;\">\n",
       "      <th></th>\n",
       "      <th>Date</th>\n",
       "      <th>Rented Bike Count</th>\n",
       "      <th>Hour</th>\n",
       "      <th>Temperature(°C)</th>\n",
       "      <th>Humidity(%)</th>\n",
       "      <th>Wind speed (m/s)</th>\n",
       "      <th>Visibility (10m)</th>\n",
       "      <th>Dew point temperature(°C)</th>\n",
       "      <th>Solar Radiation (MJ/m2)</th>\n",
       "      <th>Rainfall(mm)</th>\n",
       "      <th>Snowfall (cm)</th>\n",
       "      <th>Seasons</th>\n",
       "      <th>Holiday</th>\n",
       "      <th>Functioning Day</th>\n",
       "      <th>mixed_type_col</th>\n",
       "    </tr>\n",
       "  </thead>\n",
       "  <tbody>\n",
       "    <tr>\n",
       "      <th>0</th>\n",
       "      <td>01/12/2017</td>\n",
       "      <td>254.0</td>\n",
       "      <td>0.0</td>\n",
       "      <td>-5.2</td>\n",
       "      <td>37.0</td>\n",
       "      <td>2.2</td>\n",
       "      <td>2000.0</td>\n",
       "      <td>-17.6</td>\n",
       "      <td>0.0</td>\n",
       "      <td>0.0</td>\n",
       "      <td>0.0</td>\n",
       "      <td>Winter</td>\n",
       "      <td>No Holiday</td>\n",
       "      <td>Yes</td>\n",
       "      <td>876</td>\n",
       "    </tr>\n",
       "    <tr>\n",
       "      <th>1</th>\n",
       "      <td>01/12/2017</td>\n",
       "      <td>204.0</td>\n",
       "      <td>1.0</td>\n",
       "      <td>-5.5</td>\n",
       "      <td>38.0</td>\n",
       "      <td>0.8</td>\n",
       "      <td>2000.0</td>\n",
       "      <td>-17.6</td>\n",
       "      <td>0.0</td>\n",
       "      <td>0.0</td>\n",
       "      <td>0.0</td>\n",
       "      <td>Winter</td>\n",
       "      <td>No Holiday</td>\n",
       "      <td>Yes</td>\n",
       "      <td>798</td>\n",
       "    </tr>\n",
       "    <tr>\n",
       "      <th>2</th>\n",
       "      <td>01/12/2017</td>\n",
       "      <td>173.0</td>\n",
       "      <td>2.0</td>\n",
       "      <td>-6.0</td>\n",
       "      <td>39.0</td>\n",
       "      <td>1.0</td>\n",
       "      <td>2000.0</td>\n",
       "      <td>-17.7</td>\n",
       "      <td>0.0</td>\n",
       "      <td>0.0</td>\n",
       "      <td>0.0</td>\n",
       "      <td>Winter</td>\n",
       "      <td>No Holiday</td>\n",
       "      <td>Yes</td>\n",
       "      <td>231</td>\n",
       "    </tr>\n",
       "    <tr>\n",
       "      <th>3</th>\n",
       "      <td>01/12/2017</td>\n",
       "      <td>107.0</td>\n",
       "      <td>3.0</td>\n",
       "      <td>-6.2</td>\n",
       "      <td>40.0</td>\n",
       "      <td>0.9</td>\n",
       "      <td>2000.0</td>\n",
       "      <td>-17.6</td>\n",
       "      <td>0.0</td>\n",
       "      <td>0.0</td>\n",
       "      <td>0.0</td>\n",
       "      <td>Winter</td>\n",
       "      <td>No Holiday</td>\n",
       "      <td>Yes</td>\n",
       "      <td>bad</td>\n",
       "    </tr>\n",
       "    <tr>\n",
       "      <th>4</th>\n",
       "      <td>01/12/2017</td>\n",
       "      <td>78.0</td>\n",
       "      <td>4.0</td>\n",
       "      <td>-6.0</td>\n",
       "      <td>36.0</td>\n",
       "      <td>2.3</td>\n",
       "      <td>2000.0</td>\n",
       "      <td>-18.6</td>\n",
       "      <td>0.0</td>\n",
       "      <td>0.0</td>\n",
       "      <td>0.0</td>\n",
       "      <td>Winter</td>\n",
       "      <td>No Holiday</td>\n",
       "      <td>Yes</td>\n",
       "      <td>536</td>\n",
       "    </tr>\n",
       "  </tbody>\n",
       "</table>\n",
       "</div>"
      ],
      "text/plain": [
       "         Date Rented Bike Count Hour Temperature(°C) Humidity(%)  \\\n",
       "0  01/12/2017             254.0  0.0           -5.2         37.0   \n",
       "1  01/12/2017             204.0  1.0            -5.5        38.0   \n",
       "2  01/12/2017             173.0  2.0            -6.0       39.0    \n",
       "3  01/12/2017            107.0   3.0            -6.2        40.0   \n",
       "4  01/12/2017              78.0  4.0            -6.0        36.0   \n",
       "\n",
       "  Wind speed (m/s) Visibility (10m) Dew point temperature(°C)  \\\n",
       "0             2.2            2000.0                     -17.6   \n",
       "1              0.8           2000.0                     -17.6   \n",
       "2              1.0           2000.0                     -17.7   \n",
       "3              0.9          2000.0                      -17.6   \n",
       "4              2.3           2000.0                     -18.6   \n",
       "\n",
       "  Solar Radiation (MJ/m2) Rainfall(mm) Snowfall (cm) Seasons     Holiday  \\\n",
       "0                     0.0          0.0           0.0  Winter  No Holiday   \n",
       "1                     0.0          0.0           0.0  Winter  No Holiday   \n",
       "2                     0.0          0.0           0.0  Winter  No Holiday   \n",
       "3                     0.0          0.0           0.0  Winter  No Holiday   \n",
       "4                     0.0          0.0           0.0  Winter  No Holiday   \n",
       "\n",
       "  Functioning Day mixed_type_col  \n",
       "0             Yes            876  \n",
       "1             Yes            798  \n",
       "2             Yes            231  \n",
       "3             Yes            bad  \n",
       "4             Yes            536  "
      ]
     },
     "execution_count": 16,
     "metadata": {},
     "output_type": "execute_result"
    }
   ],
   "source": [
    "import pandas as pd\n",
    "import numpy as np\n",
    "from sklearn.preprocessing import LabelEncoder\n",
    "\n",
    "# 1. Cargar el Dataset\n",
    "df = pd.read_csv('./csv/seoul_bike_sharing_modified.csv')\n",
    "print(\"Dataset cargado exitosamente. Las primeras 5 filas:\")\n",
    "\n",
    "df.head(5)"
   ]
  },
  {
   "cell_type": "code",
   "execution_count": 17,
   "id": "7ef7e86c",
   "metadata": {},
   "outputs": [
    {
     "name": "stdout",
     "output_type": "stream",
     "text": [
      "Columnas a trabajar:\n",
      "\n"
     ]
    },
    {
     "data": {
      "text/plain": [
       "date                         object\n",
       "demanda                      object\n",
       "hour                         object\n",
       "temperature(°c)              object\n",
       "humidity(%)                  object\n",
       "wind_speed_(m/s)             object\n",
       "visibility_(10m)             object\n",
       "dew_point_temperature(°c)    object\n",
       "solar_radiation_(mj/m2)      object\n",
       "rainfall(mm)                 object\n",
       "snowfall_(cm)                object\n",
       "seasons                      object\n",
       "holiday                      object\n",
       "functioning_day              object\n",
       "mixed_type_col               object\n",
       "dtype: object"
      ]
     },
     "execution_count": 17,
     "metadata": {},
     "output_type": "execute_result"
    }
   ],
   "source": [
    "# 2. Renombrar y Estandarizar Columnas\n",
    "# Eliminaremos los espacios entre los nombres de los features para reemplazarlos por underscores (_)\n",
    "\n",
    "df.columns = df.columns.str.strip().str.lower().str.replace(' ', '_')\n",
    "df.rename(columns={'rented_bike_count': 'demanda'}, inplace=True)\n",
    "\n",
    "# Imprimimos las nuevas columnas\n",
    "print('Columnas a trabajar:\\n')\n",
    "df.dtypes"
   ]
  },
  {
   "cell_type": "markdown",
   "id": "fca334bf",
   "metadata": {},
   "source": [
    "En este punto es posible darnos cuenta de que contamos con un dataset el cual:\n",
    "\n",
    "- Contiene \"ruido\" en las variables de tipo numérico.\n",
    "- Variablles o features que deberían ser binarios contienen valores extraños (`holiday` y `functioning_day` son un claro ejemplo de ésto)."
   ]
  },
  {
   "cell_type": "markdown",
   "id": "e23f0e34",
   "metadata": {},
   "source": [
    "# Limpieza de nuestro dataset"
   ]
  },
  {
   "cell_type": "markdown",
   "id": "1cb6e9ff",
   "metadata": {},
   "source": [
    "### Para `holiday`  y `functioning_day`"
   ]
  },
  {
   "cell_type": "markdown",
   "id": "99274169",
   "metadata": {},
   "source": [
    "Notamos que los valores válidos para estos features son los siguientes:\n",
    "\n",
    "- `Para holiday`: `No holiday` & `Holiday`.\n",
    "- `Para functioning_day`: `Yes` & `No`."
   ]
  },
  {
   "cell_type": "code",
   "execution_count": 29,
   "id": "6c4e0150",
   "metadata": {},
   "outputs": [
    {
     "name": "stdout",
     "output_type": "stream",
     "text": [
      "Valores únicos para `holiday`: ['No Holiday' ' nO hOLIDAY ' nan ' hOLIDAY ' 'Holiday' ' NAN ']\n",
      "Valores únicos para `functioning_day`: ['Yes' ' yES ' ' NAN ' nan 'No' ' nO ']\n"
     ]
    }
   ],
   "source": [
    "print( f\"Valores únicos para `holiday`: {df['holiday'].unique()}\" )\n",
    "print( f\"Valores únicos para `functioning_day`: {df['functioning_day'].unique()}\" )"
   ]
  },
  {
   "cell_type": "markdown",
   "id": "429991ec",
   "metadata": {},
   "source": [
    "#### Para `holiday`"
   ]
  },
  {
   "cell_type": "markdown",
   "id": "e7cb95c2",
   "metadata": {},
   "source": [
    "Por lo tanto, ahora procedemos a trabajar sobre `Holiday` para asegurarnos que los valores en nuestro dataset sean correctos."
   ]
  },
  {
   "cell_type": "code",
   "execution_count": 27,
   "id": "074c712d",
   "metadata": {},
   "outputs": [
    {
     "name": "stdout",
     "output_type": "stream",
     "text": [
      "Al aplicar nuestra función de limpieza tenemos los siguientes valores únicos en `holiday`: ['no' None 'yes']\n"
     ]
    }
   ],
   "source": [
    "def correct_holiday_values( value_to_clean ):\n",
    "    \n",
    "    \n",
    "    if ( (value_to_clean == 'nan') or (value_to_clean is None ) or (value_to_clean == '')):\n",
    "        return None\n",
    "    else:\n",
    "        value_to_clean = str(value_to_clean).lower()\n",
    "        value_to_clean = value_to_clean.strip()\n",
    "    \n",
    "        if value_to_clean == 'holiday':\n",
    "            return 'yes'\n",
    "        elif value_to_clean == 'no holiday':\n",
    "            return 'no'\n",
    "        \n",
    "df['Holiday_or_not'] = df['holiday'].apply(correct_holiday_values)\n",
    "print( f\"Al aplicar nuestra función de limpieza tenemos los siguientes valores únicos en `holiday`: {df['Holiday_or_not'].unique()}\")"
   ]
  },
  {
   "cell_type": "code",
   "execution_count": null,
   "id": "111ae22d",
   "metadata": {},
   "outputs": [],
   "source": [
    "# Copiamos los valores obtenidos para holiday y eliminamos la columna que usamos para limpiar esta data\n",
    "\n",
    "df['holiday'] = df['Holiday_or_not']\n",
    "df.drop(columns=['Holiday_or_not'], inplace=True)\n"
   ]
  },
  {
   "cell_type": "code",
   "execution_count": 45,
   "id": "6de2e3f9",
   "metadata": {},
   "outputs": [
    {
     "name": "stdout",
     "output_type": "stream",
     "text": [
      "[' 10/12/2017 ' '17/12/2017' '19/12/2017' '20/12/2017' '21/12/2017'\n",
      " '22/12/2017' '23/12/2017' '26/12/2017' '29/12/2017' '30/12/2017'\n",
      " '05/01/2018' '09/01/2018' '14/01/2018' '19/01/2018' '21/01/2018'\n",
      " '23/01/2018' '27/02/2018' '28/02/2018' '01/03/2018' '18/03/2018'\n",
      " '20/03/2018' '21/03/2018' '23/03/2018' '09/04/2018' '16/04/2018' nan\n",
      " '26/04/2018' '27/04/2018' '02/05/2018' '06/05/2018' '19/05/2018'\n",
      " '20/05/2018' '22/05/2018' '23/05/2018' ' 27/05/2018 ' '11/06/2018'\n",
      " '12/06/2018' '18/06/2018' '19/06/2018' ' 25/06/2018 ' '08/07/2018'\n",
      " '11/07/2018' '13/07/2018' '24/07/2018' ' 25/07/2018 ' '30/07/2018'\n",
      " '31/07/2018' '03/08/2018' '13/08/2018' '22/08/2018' '31/08/2018'\n",
      " '02/09/2018' '05/09/2018' '14/09/2018' ' 20/09/2018 ' '22/09/2018'\n",
      " '23/09/2018' '30/09/2018' '05/10/2018' '15/10/2018' '27/10/2018'\n",
      " '28/10/2018' '31/10/2018' '02/11/2018' '06/11/2018' '12/11/2018'\n",
      " '13/11/2018' '14/11/2018' '22/11/2018' '23/11/2018' '25/11/2018'\n",
      " '30/11/2018' '15/11/2018' '28/04/2018']\n"
     ]
    }
   ],
   "source": [
    "# Ahora revisamos qué fechas tienen valores None en la columna de holiday para investigar si estos fueron días festivos en Seoul.\n",
    "\n",
    "print( df.loc[df['holiday'].isna(), 'date'].unique() )"
   ]
  },
  {
   "cell_type": "markdown",
   "id": "69eae1d5",
   "metadata": {},
   "source": [
    "Y luego de una búsqueda rápida en internet, las siguientes fechas fueron festivas en Seoul:\n",
    "\n",
    "- 01/03/2018\n",
    "- 22/05/2018"
   ]
  },
  {
   "cell_type": "code",
   "execution_count": 49,
   "id": "fd694b46",
   "metadata": {},
   "outputs": [
    {
     "data": {
      "text/plain": [
       "array(['no', 'yes'], dtype=object)"
      ]
     },
     "execution_count": 49,
     "metadata": {},
     "output_type": "execute_result"
    }
   ],
   "source": [
    "# Entonces, procedemos a cambiar los valores None por 'yes' o 'no' con base en la fecha de registro.\n",
    "# En este paso, existe un registro con fecha NaN que tomará el valor de 'no', pero esto podemos trabajarlo después.\n",
    "\n",
    "festive_dates = ['01/03/2018', '22/05/2018']\n",
    "\n",
    "df['holiday'] = [ \n",
    "                 'yes' if  (h is None and d in festive_dates)\n",
    "                 else 'no' if (h is None and d not in festive_dates)\n",
    "                 else h for d,h in zip(df['date'], df['holiday'])]\n",
    "\n",
    "df['holiday'].unique()"
   ]
  },
  {
   "cell_type": "markdown",
   "id": "24dfd7e0",
   "metadata": {},
   "source": [
    "#### Para `functioning_day`"
   ]
  },
  {
   "cell_type": "markdown",
   "id": "1b36f9dc",
   "metadata": {},
   "source": [
    "Al correr el código de abajo es posible notar que no se encontró algún valor None o vacío en la columna `functioning_day` al usar una función similar al procesamiento de `holiday`, por lo que en este paso procedemos solamente a modificar los valores de `functioning_day` según lo obtenido por nuestra función."
   ]
  },
  {
   "cell_type": "code",
   "execution_count": 51,
   "id": "9e6b089d",
   "metadata": {},
   "outputs": [
    {
     "name": "stdout",
     "output_type": "stream",
     "text": [
      "Al aplicar nuestra función de limpieza tenemos los siguientes valores únicos en `functioning_day`: ['yes' 'no']\n"
     ]
    }
   ],
   "source": [
    "def correct_functioning_day_values( value_to_clean):\n",
    "    \n",
    "    if ( (value_to_clean == 'nan') or (value_to_clean is None ) or (value_to_clean == '')):\n",
    "        return None\n",
    "    \n",
    "    else:\n",
    "        \n",
    "        value_to_clean = str(value_to_clean).lower()\n",
    "        value_to_clean = value_to_clean.strip()\n",
    "    \n",
    "        if value_to_clean == 'yes':\n",
    "            return 'yes'\n",
    "        else:\n",
    "            return 'no'\n",
    "        \n",
    "df['functioning_day_or_not'] = df['functioning_day'].apply(correct_functioning_day_values)\n",
    "print( f\"Al aplicar nuestra función de limpieza tenemos los siguientes valores únicos en `functioning_day`: {df['functioning_day_or_not'].unique()}\")"
   ]
  },
  {
   "cell_type": "code",
   "execution_count": 52,
   "id": "7b4eeef8",
   "metadata": {},
   "outputs": [
    {
     "data": {
      "text/plain": [
       "array(['yes', 'no'], dtype=object)"
      ]
     },
     "execution_count": 52,
     "metadata": {},
     "output_type": "execute_result"
    }
   ],
   "source": [
    "df['functioning_day'] = df['functioning_day_or_not']\n",
    "df.drop(columns=['functioning_day_or_not'], inplace=True)\n",
    "df['functioning_day'].unique()"
   ]
  },
  {
   "cell_type": "markdown",
   "id": "2c1cd5b0",
   "metadata": {},
   "source": [
    "Y ahora procedemos a revisar la distribución de cada "
   ]
  },
  {
   "cell_type": "code",
   "execution_count": null,
   "id": "adf120a6",
   "metadata": {},
   "outputs": [],
   "source": [
    "# Convertir 'date' al tipo datetime\n",
    "df['date'] = pd.to_datetime(df['date'], format='%d/%m/%Y')\n",
    "\n",
    "# Combinar fecha y hora en una sola columna para análisis de series de tiempo\n",
    "df['datetime'] = df['date'] + pd.to_timedelta(df['hour'], unit='h')\n",
    "df.set_index('datetime', inplace=True)\n",
    "df.drop(['date', 'hour'], axis=1, inplace=True)\n",
    "\n",
    "print(\"\\n--- DataFrame después de la conversión de tipos ---\")\n",
    "print(df.head())"
   ]
  },
  {
   "cell_type": "markdown",
   "id": "8987ea44",
   "metadata": {},
   "source": [
    "# Exploratory Data Analysis (EDA)"
   ]
  },
  {
   "cell_type": "code",
   "execution_count": 15,
   "id": "b5e80d94",
   "metadata": {},
   "outputs": [
    {
     "name": "stdout",
     "output_type": "stream",
     "text": [
      "\n",
      "--- Información General y Tipos de Datos ---\n",
      "<class 'pandas.core.frame.DataFrame'>\n",
      "RangeIndex: 8935 entries, 0 to 8934\n",
      "Data columns (total 15 columns):\n",
      " #   Column                     Non-Null Count  Dtype \n",
      "---  ------                     --------------  ----- \n",
      " 0   date                       8857 non-null   object\n",
      " 1   demanda                    8829 non-null   object\n",
      " 2   hour                       8820 non-null   object\n",
      " 3   temperature(°c)            8846 non-null   object\n",
      " 4   humidity(%)                8837 non-null   object\n",
      " 5   wind_speed_(m/s)           8812 non-null   object\n",
      " 6   visibility_(10m)           8843 non-null   object\n",
      " 7   dew_point_temperature(°c)  8833 non-null   object\n",
      " 8   solar_radiation_(mj/m2)    8846 non-null   object\n",
      " 9   rainfall(mm)               8855 non-null   object\n",
      " 10  snowfall_(cm)              8834 non-null   object\n",
      " 11  seasons                    8856 non-null   object\n",
      " 12  holiday                    8857 non-null   object\n",
      " 13  functioning_day            8838 non-null   object\n",
      " 14  mixed_type_col             8085 non-null   object\n",
      "dtypes: object(15)\n",
      "memory usage: 1.0+ MB\n",
      "\n",
      "\n",
      "--- Estadísticas Descriptivas de Variables Numéricas ---\n",
      "                          count unique         top  freq\n",
      "date                       8857    628  15/11/2018    26\n",
      "demanda                    8829   2542         0.0   279\n",
      "hour                       8820    140         2.0   353\n",
      "temperature(°c)            8846    894        19.1    39\n",
      "humidity(%)                8837    272        53.0   168\n",
      "wind_speed_(m/s)           8812    207         1.1   389\n",
      "visibility_(10m)           8843   2102      2000.0  2139\n",
      "dew_point_temperature(°c)  8833    920         0.0    57\n",
      "solar_radiation_(mj/m2)    8846    581         0.0  4096\n",
      "rainfall(mm)               8855    115         0.0  7838\n",
      "snowfall_(cm)              8834    112         0.0  7895\n",
      "seasons                    8856      9      Summer  2133\n",
      "holiday                    8857      5  No Holiday  7997\n",
      "functioning_day            8838      5         Yes  8105\n",
      "mixed_type_col             8085   1001         bad   910\n",
      "\n",
      "--- Conteo de Valores Únicos en Variables Categóricas/Discretas ---\n",
      "seasons\n",
      "Summer      2133\n",
      "Spring      2112\n",
      "Autumn      2101\n",
      "Winter      2090\n",
      " sPRING      122\n",
      " aUTUMN      103\n",
      " sUMMER       96\n",
      " wINTER       90\n",
      " NAN           9\n",
      "Name: count, dtype: int64\n",
      "holiday\n",
      "No Holiday      7997\n",
      " nO hOLIDAY      419\n",
      "Holiday          411\n",
      " hOLIDAY          25\n",
      " NAN               5\n",
      "Name: count, dtype: int64\n",
      "functioning_day\n",
      "Yes      8105\n",
      " yES      428\n",
      "No        284\n",
      " nO        15\n",
      " NAN        6\n",
      "Name: count, dtype: int64\n"
     ]
    }
   ],
   "source": [
    "print(\"\\n--- Información General y Tipos de Datos ---\")\n",
    "df.info()\n",
    "\n",
    "print(\"\\n\\n--- Estadísticas Descriptivas de Variables Numéricas ---\")\n",
    "print(df.describe().T)\n",
    "\n",
    "print(\"\\n--- Conteo de Valores Únicos en Variables Categóricas/Discretas ---\")\n",
    "print(df['seasons'].value_counts())\n",
    "print(df['holiday'].value_counts())\n",
    "print(df['functioning_day'].value_counts())"
   ]
  },
  {
   "cell_type": "markdown",
   "id": "c8abe0f4",
   "metadata": {},
   "source": [
    "# Limpieza y Transformación de Datos"
   ]
  },
  {
   "cell_type": "code",
   "execution_count": null,
   "id": "0e482a75",
   "metadata": {},
   "outputs": [
    {
     "name": "stdout",
     "output_type": "stream",
     "text": [
      "\n",
      "--- DataFrame después de la conversión de tipos ---\n",
      "                     demanda  temperature(°c)  humidity(%)  wind_speed_(m/s)  \\\n",
      "datetime                                                                       \n",
      "2017-12-01 00:00:00      254             -5.2           37               2.2   \n",
      "2017-12-01 01:00:00      204             -5.5           38               0.8   \n",
      "2017-12-01 02:00:00      173             -6.0           39               1.0   \n",
      "2017-12-01 03:00:00      107             -6.2           40               0.9   \n",
      "2017-12-01 04:00:00       78             -6.0           36               2.3   \n",
      "\n",
      "                     visibility_(10m)  dew_point_temperature(°c)  \\\n",
      "datetime                                                           \n",
      "2017-12-01 00:00:00              2000                      -17.6   \n",
      "2017-12-01 01:00:00              2000                      -17.6   \n",
      "2017-12-01 02:00:00              2000                      -17.7   \n",
      "2017-12-01 03:00:00              2000                      -17.6   \n",
      "2017-12-01 04:00:00              2000                      -18.6   \n",
      "\n",
      "                     solar_radiation_(mj/m2)  rainfall(mm)  snowfall_(cm)  \\\n",
      "datetime                                                                    \n",
      "2017-12-01 00:00:00                      0.0           0.0            0.0   \n",
      "2017-12-01 01:00:00                      0.0           0.0            0.0   \n",
      "2017-12-01 02:00:00                      0.0           0.0            0.0   \n",
      "2017-12-01 03:00:00                      0.0           0.0            0.0   \n",
      "2017-12-01 04:00:00                      0.0           0.0            0.0   \n",
      "\n",
      "                    seasons     holiday functioning_day  \n",
      "datetime                                                 \n",
      "2017-12-01 00:00:00  Winter  No Holiday             Yes  \n",
      "2017-12-01 01:00:00  Winter  No Holiday             Yes  \n",
      "2017-12-01 02:00:00  Winter  No Holiday             Yes  \n",
      "2017-12-01 03:00:00  Winter  No Holiday             Yes  \n",
      "2017-12-01 04:00:00  Winter  No Holiday             Yes  \n"
     ]
    }
   ],
   "source": []
  },
  {
   "cell_type": "code",
   "execution_count": 10,
   "id": "cc92eac6",
   "metadata": {},
   "outputs": [
    {
     "name": "stdout",
     "output_type": "stream",
     "text": [
      "\n",
      "--- Conteo de Valores Nulos por Columna ---\n",
      "demanda                      0\n",
      "temperature(°c)              0\n",
      "humidity(%)                  0\n",
      "wind_speed_(m/s)             0\n",
      "visibility_(10m)             0\n",
      "dew_point_temperature(°c)    0\n",
      "solar_radiation_(mj/m2)      0\n",
      "rainfall(mm)                 0\n",
      "snowfall_(cm)                0\n",
      "seasons                      0\n",
      "holiday                      0\n",
      "functioning_day              0\n",
      "dtype: int64\n"
     ]
    }
   ],
   "source": [
    "# 1. Verificar Nulos (Métricas)\n",
    "print(\"\\n--- Conteo de Valores Nulos por Columna ---\")\n",
    "print(df.isnull().sum())\n",
    "# Si aparecen nulos, la acción recomendada (imputación con media/mediana o eliminación) depende de la cantidad.\n",
    "\n",
    "# 2. Manejo de Inconsistencias\n",
    "# Las variables 'functioning_day' deben ser binarias (Yes/No o Fun/NoFunc)\n",
    "# En este dataset son 'Yes' y 'No', lo cual es consistente.\n",
    "\n",
    "# Convertir 'functioning_day' y 'holiday' a numérico (0 y 1)\n",
    "df['functioning_day'] = df['functioning_day'].map({'Yes': 1, 'No': 0})\n",
    "df['holiday'] = df['holiday'].map({'No Holiday': 0, 'Holiday': 1})"
   ]
  },
  {
   "cell_type": "code",
   "execution_count": 11,
   "id": "76cbd705",
   "metadata": {},
   "outputs": [
    {
     "name": "stdout",
     "output_type": "stream",
     "text": [
      "\n",
      "--- Detección de Outliers en Demanda ---\n",
      "Límite Superior (1.5*IQR): 2377\n",
      "Número de outliers detectados: 158\n",
      "Máximo de Demanda (Original): 3556\n",
      "Máximo de Demanda (Limpia): 2377\n"
     ]
    }
   ],
   "source": [
    "# Aplicar la detección de outliers en la variable 'demanda'\n",
    "Q1 = df['demanda'].quantile(0.25)\n",
    "Q3 = df['demanda'].quantile(0.75)\n",
    "IQR = Q3 - Q1\n",
    "\n",
    "limite_superior = Q3 + 1.5 * IQR\n",
    "\n",
    "# 1. Conteo de Outliers\n",
    "outliers_count = df[df['demanda'] > limite_superior].shape[0]\n",
    "print(f\"\\n--- Detección de Outliers en Demanda ---\")\n",
    "print(f\"Límite Superior (1.5*IQR): {limite_superior:.0f}\")\n",
    "print(f\"Número de outliers detectados: {outliers_count}\")\n",
    "\n",
    "# 2. Opción de Limpieza (Imputación por tope o 'Capping')\n",
    "# En lugar de eliminar, reemplazamos los outliers con el límite superior (Capping).\n",
    "# Esto es común en modelos de regresión para mantener el tamaño del dataset.\n",
    "df['demanda_limpia'] = np.where(\n",
    "    df['demanda'] > limite_superior,\n",
    "    limite_superior,\n",
    "    df['demanda']\n",
    ")\n",
    "\n",
    "# Comparación del máximo antes y después\n",
    "print(f\"Máximo de Demanda (Original): {df['demanda'].max()}\")\n",
    "print(f\"Máximo de Demanda (Limpia): {df['demanda_limpia'].max():.0f}\")\n",
    "\n",
    "# Se puede eliminar la columna original 'demanda' si solo se usará la 'demanda_limpia'\n",
    "df.drop('demanda', axis=1, inplace=True)\n",
    "df.rename(columns={'demanda_limpia': 'demanda'}, inplace=True)"
   ]
  },
  {
   "cell_type": "markdown",
   "id": "72037468",
   "metadata": {},
   "source": [
    "### Buscamos algunas relaciones"
   ]
  },
  {
   "cell_type": "markdown",
   "id": "bef9cd1b",
   "metadata": {},
   "source": [
    "# Transformaciones Finales (Feature Engineering)"
   ]
  },
  {
   "cell_type": "code",
   "execution_count": 8,
   "id": "65f24f77",
   "metadata": {},
   "outputs": [
    {
     "name": "stdout",
     "output_type": "stream",
     "text": [
      "\n",
      "--- DataFrame después del One-Hot Encoding de 'seasons' ---\n",
      "                     temperature(°c)  humidity(%)  wind_speed_(m/s)  \\\n",
      "datetime                                                              \n",
      "2017-12-01 00:00:00             -5.2           37               2.2   \n",
      "2017-12-01 01:00:00             -5.5           38               0.8   \n",
      "2017-12-01 02:00:00             -6.0           39               1.0   \n",
      "2017-12-01 03:00:00             -6.2           40               0.9   \n",
      "2017-12-01 04:00:00             -6.0           36               2.3   \n",
      "\n",
      "                     visibility_(10m)  dew_point_temperature(°c)  \\\n",
      "datetime                                                           \n",
      "2017-12-01 00:00:00              2000                      -17.6   \n",
      "2017-12-01 01:00:00              2000                      -17.6   \n",
      "2017-12-01 02:00:00              2000                      -17.7   \n",
      "2017-12-01 03:00:00              2000                      -17.6   \n",
      "2017-12-01 04:00:00              2000                      -18.6   \n",
      "\n",
      "                     solar_radiation_(mj/m2)  rainfall(mm)  snowfall_(cm)  \\\n",
      "datetime                                                                    \n",
      "2017-12-01 00:00:00                      0.0           0.0            0.0   \n",
      "2017-12-01 01:00:00                      0.0           0.0            0.0   \n",
      "2017-12-01 02:00:00                      0.0           0.0            0.0   \n",
      "2017-12-01 03:00:00                      0.0           0.0            0.0   \n",
      "2017-12-01 04:00:00                      0.0           0.0            0.0   \n",
      "\n",
      "                     holiday  functioning_day  demanda  season_Autumn  \\\n",
      "datetime                                                                \n",
      "2017-12-01 00:00:00        0                1    254.0          False   \n",
      "2017-12-01 01:00:00        0                1    204.0          False   \n",
      "2017-12-01 02:00:00        0                1    173.0          False   \n",
      "2017-12-01 03:00:00        0                1    107.0          False   \n",
      "2017-12-01 04:00:00        0                1     78.0          False   \n",
      "\n",
      "                     season_Spring  season_Summer  season_Winter  \n",
      "datetime                                                          \n",
      "2017-12-01 00:00:00          False          False           True  \n",
      "2017-12-01 01:00:00          False          False           True  \n",
      "2017-12-01 02:00:00          False          False           True  \n",
      "2017-12-01 03:00:00          False          False           True  \n",
      "2017-12-01 04:00:00          False          False           True  \n"
     ]
    }
   ],
   "source": [
    "# Aplicar One-Hot Encoding a la variable 'seasons'\n",
    "df_encoded = pd.get_dummies(df, columns=['seasons'], prefix='season')\n",
    "\n",
    "print(\"\\n--- DataFrame después del One-Hot Encoding de 'seasons' ---\")\n",
    "print(df_encoded.head())"
   ]
  },
  {
   "cell_type": "code",
   "execution_count": 9,
   "id": "293b03bf",
   "metadata": {},
   "outputs": [
    {
     "name": "stdout",
     "output_type": "stream",
     "text": [
      "\n",
      "--- DataFrame después del Feature Engineering ---\n",
      "                     temperature(°c)  humidity(%)  wind_speed_(m/s)  \\\n",
      "datetime                                                              \n",
      "2017-12-01 00:00:00             -5.2           37               2.2   \n",
      "2017-12-01 01:00:00             -5.5           38               0.8   \n",
      "2017-12-01 02:00:00             -6.0           39               1.0   \n",
      "2017-12-01 03:00:00             -6.2           40               0.9   \n",
      "2017-12-01 04:00:00             -6.0           36               2.3   \n",
      "\n",
      "                     visibility_(10m)  dew_point_temperature(°c)  \\\n",
      "datetime                                                           \n",
      "2017-12-01 00:00:00              2000                      -17.6   \n",
      "2017-12-01 01:00:00              2000                      -17.6   \n",
      "2017-12-01 02:00:00              2000                      -17.7   \n",
      "2017-12-01 03:00:00              2000                      -17.6   \n",
      "2017-12-01 04:00:00              2000                      -18.6   \n",
      "\n",
      "                     solar_radiation_(mj/m2)  rainfall(mm)  snowfall_(cm)  \\\n",
      "datetime                                                                    \n",
      "2017-12-01 00:00:00                      0.0           0.0            0.0   \n",
      "2017-12-01 01:00:00                      0.0           0.0            0.0   \n",
      "2017-12-01 02:00:00                      0.0           0.0            0.0   \n",
      "2017-12-01 03:00:00                      0.0           0.0            0.0   \n",
      "2017-12-01 04:00:00                      0.0           0.0            0.0   \n",
      "\n",
      "                     holiday  functioning_day  demanda  season_Autumn  \\\n",
      "datetime                                                                \n",
      "2017-12-01 00:00:00        0                1    254.0          False   \n",
      "2017-12-01 01:00:00        0                1    204.0          False   \n",
      "2017-12-01 02:00:00        0                1    173.0          False   \n",
      "2017-12-01 03:00:00        0                1    107.0          False   \n",
      "2017-12-01 04:00:00        0                1     78.0          False   \n",
      "\n",
      "                     season_Spring  season_Summer  season_Winter  month  \\\n",
      "datetime                                                                  \n",
      "2017-12-01 00:00:00          False          False           True     12   \n",
      "2017-12-01 01:00:00          False          False           True     12   \n",
      "2017-12-01 02:00:00          False          False           True     12   \n",
      "2017-12-01 03:00:00          False          False           True     12   \n",
      "2017-12-01 04:00:00          False          False           True     12   \n",
      "\n",
      "                     day_of_week  is_weekend  \n",
      "datetime                                      \n",
      "2017-12-01 00:00:00            4           0  \n",
      "2017-12-01 01:00:00            4           0  \n",
      "2017-12-01 02:00:00            4           0  \n",
      "2017-12-01 03:00:00            4           0  \n",
      "2017-12-01 04:00:00            4           0  \n"
     ]
    }
   ],
   "source": [
    "# Crear variables adicionales de tiempo\n",
    "df_encoded['month'] = df_encoded.index.month\n",
    "df_encoded['day_of_week'] = df_encoded.index.day_of_week # 0=Lunes, 6=Domingo\n",
    "df_encoded['is_weekend'] = df_encoded['day_of_week'].apply(lambda x: 1 if x >= 5 else 0) # Sábado y Domingo\n",
    "\n",
    "print(\"\\n--- DataFrame después del Feature Engineering ---\")\n",
    "print(df_encoded.head())"
   ]
  }
 ],
 "metadata": {
  "kernelspec": {
   "display_name": "MLOps (3.13.7)",
   "language": "python",
   "name": "python3"
  },
  "language_info": {
   "codemirror_mode": {
    "name": "ipython",
    "version": 3
   },
   "file_extension": ".py",
   "mimetype": "text/x-python",
   "name": "python",
   "nbconvert_exporter": "python",
   "pygments_lexer": "ipython3",
   "version": "3.13.7"
  }
 },
 "nbformat": 4,
 "nbformat_minor": 5
}
