{
 "cells": [
  {
   "cell_type": "markdown",
   "id": "5471b60a",
   "metadata": {},
   "source": [
    "# Inicialización y Carga de Datos "
   ]
  },
  {
   "cell_type": "code",
   "execution_count": 1,
   "id": "67165894",
   "metadata": {},
   "outputs": [
    {
     "name": "stdout",
     "output_type": "stream",
     "text": [
      "Dataset cargado exitosamente. Las primeras 5 filas:\n",
      "         Date  Rented Bike Count  Hour  Temperature(°C)  Humidity(%)  \\\n",
      "0  01/12/2017                254     0             -5.2           37   \n",
      "1  01/12/2017                204     1             -5.5           38   \n",
      "2  01/12/2017                173     2             -6.0           39   \n",
      "3  01/12/2017                107     3             -6.2           40   \n",
      "4  01/12/2017                 78     4             -6.0           36   \n",
      "\n",
      "   Wind speed (m/s)  Visibility (10m)  Dew point temperature(°C)  \\\n",
      "0               2.2              2000                      -17.6   \n",
      "1               0.8              2000                      -17.6   \n",
      "2               1.0              2000                      -17.7   \n",
      "3               0.9              2000                      -17.6   \n",
      "4               2.3              2000                      -18.6   \n",
      "\n",
      "   Solar Radiation (MJ/m2)  Rainfall(mm)  Snowfall (cm) Seasons     Holiday  \\\n",
      "0                      0.0           0.0            0.0  Winter  No Holiday   \n",
      "1                      0.0           0.0            0.0  Winter  No Holiday   \n",
      "2                      0.0           0.0            0.0  Winter  No Holiday   \n",
      "3                      0.0           0.0            0.0  Winter  No Holiday   \n",
      "4                      0.0           0.0            0.0  Winter  No Holiday   \n",
      "\n",
      "  Functioning Day  \n",
      "0             Yes  \n",
      "1             Yes  \n",
      "2             Yes  \n",
      "3             Yes  \n",
      "4             Yes  \n"
     ]
    }
   ],
   "source": [
    "import pandas as pd\n",
    "import numpy as np\n",
    "from sklearn.preprocessing import LabelEncoder\n",
    "\n",
    "# 1. Cargar el Dataset\n",
    "df = pd.read_csv('../csv/seoul_bike_sharing_original.csv')\n",
    "print(\"Dataset cargado exitosamente. Las primeras 5 filas:\")\n",
    "print(df.head())"
   ]
  },
  {
   "cell_type": "code",
   "execution_count": 2,
   "id": "7ef7e86c",
   "metadata": {},
   "outputs": [],
   "source": [
    "# 2. Renombrar y Estandarizar Columnas\n",
    "# Las columnas del dataset de UCI suelen tener espacios y mayúsculas.\n",
    "df.columns = df.columns.str.strip().str.lower().str.replace(' ', '_')\n",
    "df.rename(columns={'rented_bike_count': 'demanda'}, inplace=True)"
   ]
  },
  {
   "cell_type": "code",
   "execution_count": 3,
   "id": "40712da3",
   "metadata": {},
   "outputs": [
    {
     "name": "stdout",
     "output_type": "stream",
     "text": [
      "         date  demanda  hour  temperature(°c)  humidity(%)  wind_speed_(m/s)  \\\n",
      "0  01/12/2017      254     0             -5.2           37               2.2   \n",
      "1  01/12/2017      204     1             -5.5           38               0.8   \n",
      "2  01/12/2017      173     2             -6.0           39               1.0   \n",
      "3  01/12/2017      107     3             -6.2           40               0.9   \n",
      "4  01/12/2017       78     4             -6.0           36               2.3   \n",
      "\n",
      "   visibility_(10m)  dew_point_temperature(°c)  solar_radiation_(mj/m2)  \\\n",
      "0              2000                      -17.6                      0.0   \n",
      "1              2000                      -17.6                      0.0   \n",
      "2              2000                      -17.7                      0.0   \n",
      "3              2000                      -17.6                      0.0   \n",
      "4              2000                      -18.6                      0.0   \n",
      "\n",
      "   rainfall(mm)  snowfall_(cm) seasons     holiday functioning_day  \n",
      "0           0.0            0.0  Winter  No Holiday             Yes  \n",
      "1           0.0            0.0  Winter  No Holiday             Yes  \n",
      "2           0.0            0.0  Winter  No Holiday             Yes  \n",
      "3           0.0            0.0  Winter  No Holiday             Yes  \n",
      "4           0.0            0.0  Winter  No Holiday             Yes  \n"
     ]
    }
   ],
   "source": [
    "# 3. Imprimimos los primeros 5 con los nombres nuevos\n",
    "print(df.head())"
   ]
  },
  {
   "cell_type": "markdown",
   "id": "8987ea44",
   "metadata": {},
   "source": [
    "# Exploratory Data Analysis (EDA)"
   ]
  },
  {
   "cell_type": "code",
   "execution_count": 4,
   "id": "b5e80d94",
   "metadata": {},
   "outputs": [
    {
     "name": "stdout",
     "output_type": "stream",
     "text": [
      "\n",
      "--- Información General y Tipos de Datos ---\n",
      "<class 'pandas.core.frame.DataFrame'>\n",
      "RangeIndex: 8760 entries, 0 to 8759\n",
      "Data columns (total 14 columns):\n",
      " #   Column                     Non-Null Count  Dtype  \n",
      "---  ------                     --------------  -----  \n",
      " 0   date                       8760 non-null   object \n",
      " 1   demanda                    8760 non-null   int64  \n",
      " 2   hour                       8760 non-null   int64  \n",
      " 3   temperature(°c)            8760 non-null   float64\n",
      " 4   humidity(%)                8760 non-null   int64  \n",
      " 5   wind_speed_(m/s)           8760 non-null   float64\n",
      " 6   visibility_(10m)           8760 non-null   int64  \n",
      " 7   dew_point_temperature(°c)  8760 non-null   float64\n",
      " 8   solar_radiation_(mj/m2)    8760 non-null   float64\n",
      " 9   rainfall(mm)               8760 non-null   float64\n",
      " 10  snowfall_(cm)              8760 non-null   float64\n",
      " 11  seasons                    8760 non-null   object \n",
      " 12  holiday                    8760 non-null   object \n",
      " 13  functioning_day            8760 non-null   object \n",
      "dtypes: float64(6), int64(4), object(4)\n",
      "memory usage: 958.3+ KB\n",
      "\n",
      "--- Estadísticas Descriptivas de Variables Numéricas ---\n",
      "                            count         mean         std   min     25%  \\\n",
      "demanda                    8760.0   704.602055  644.997468   0.0  191.00   \n",
      "hour                       8760.0    11.500000    6.922582   0.0    5.75   \n",
      "temperature(°c)            8760.0    12.882922   11.944825 -17.8    3.50   \n",
      "humidity(%)                8760.0    58.226256   20.362413   0.0   42.00   \n",
      "wind_speed_(m/s)           8760.0     1.724909    1.036300   0.0    0.90   \n",
      "visibility_(10m)           8760.0  1436.825799  608.298712  27.0  940.00   \n",
      "dew_point_temperature(°c)  8760.0     4.073813   13.060369 -30.6   -4.70   \n",
      "solar_radiation_(mj/m2)    8760.0     0.569111    0.868746   0.0    0.00   \n",
      "rainfall(mm)               8760.0     0.148687    1.128193   0.0    0.00   \n",
      "snowfall_(cm)              8760.0     0.075068    0.436746   0.0    0.00   \n",
      "\n",
      "                               50%      75%      max  \n",
      "demanda                     504.50  1065.25  3556.00  \n",
      "hour                         11.50    17.25    23.00  \n",
      "temperature(°c)              13.70    22.50    39.40  \n",
      "humidity(%)                  57.00    74.00    98.00  \n",
      "wind_speed_(m/s)              1.50     2.30     7.40  \n",
      "visibility_(10m)           1698.00  2000.00  2000.00  \n",
      "dew_point_temperature(°c)     5.10    14.80    27.20  \n",
      "solar_radiation_(mj/m2)       0.01     0.93     3.52  \n",
      "rainfall(mm)                  0.00     0.00    35.00  \n",
      "snowfall_(cm)                 0.00     0.00     8.80  \n",
      "\n",
      "--- Conteo de Valores Únicos en Variables Categóricas/Discretas ---\n",
      "seasons\n",
      "Spring    2208\n",
      "Summer    2208\n",
      "Autumn    2184\n",
      "Winter    2160\n",
      "Name: count, dtype: int64\n",
      "holiday\n",
      "No Holiday    8328\n",
      "Holiday        432\n",
      "Name: count, dtype: int64\n",
      "functioning_day\n",
      "Yes    8465\n",
      "No      295\n",
      "Name: count, dtype: int64\n"
     ]
    }
   ],
   "source": [
    "print(\"\\n--- Información General y Tipos de Datos ---\")\n",
    "df.info()\n",
    "\n",
    "print(\"\\n--- Estadísticas Descriptivas de Variables Numéricas ---\")\n",
    "print(df.describe().T)\n",
    "\n",
    "print(\"\\n--- Conteo de Valores Únicos en Variables Categóricas/Discretas ---\")\n",
    "print(df['seasons'].value_counts())\n",
    "print(df['holiday'].value_counts())\n",
    "print(df['functioning_day'].value_counts())"
   ]
  },
  {
   "cell_type": "markdown",
   "id": "c8abe0f4",
   "metadata": {},
   "source": [
    "# Limpieza y Transformación de Datos"
   ]
  },
  {
   "cell_type": "code",
   "execution_count": 5,
   "id": "0e482a75",
   "metadata": {},
   "outputs": [
    {
     "name": "stdout",
     "output_type": "stream",
     "text": [
      "\n",
      "--- DataFrame después de la conversión de tipos ---\n",
      "                     demanda  temperature(°c)  humidity(%)  wind_speed_(m/s)  \\\n",
      "datetime                                                                       \n",
      "2017-12-01 00:00:00      254             -5.2           37               2.2   \n",
      "2017-12-01 01:00:00      204             -5.5           38               0.8   \n",
      "2017-12-01 02:00:00      173             -6.0           39               1.0   \n",
      "2017-12-01 03:00:00      107             -6.2           40               0.9   \n",
      "2017-12-01 04:00:00       78             -6.0           36               2.3   \n",
      "\n",
      "                     visibility_(10m)  dew_point_temperature(°c)  \\\n",
      "datetime                                                           \n",
      "2017-12-01 00:00:00              2000                      -17.6   \n",
      "2017-12-01 01:00:00              2000                      -17.6   \n",
      "2017-12-01 02:00:00              2000                      -17.7   \n",
      "2017-12-01 03:00:00              2000                      -17.6   \n",
      "2017-12-01 04:00:00              2000                      -18.6   \n",
      "\n",
      "                     solar_radiation_(mj/m2)  rainfall(mm)  snowfall_(cm)  \\\n",
      "datetime                                                                    \n",
      "2017-12-01 00:00:00                      0.0           0.0            0.0   \n",
      "2017-12-01 01:00:00                      0.0           0.0            0.0   \n",
      "2017-12-01 02:00:00                      0.0           0.0            0.0   \n",
      "2017-12-01 03:00:00                      0.0           0.0            0.0   \n",
      "2017-12-01 04:00:00                      0.0           0.0            0.0   \n",
      "\n",
      "                    seasons     holiday functioning_day  \n",
      "datetime                                                 \n",
      "2017-12-01 00:00:00  Winter  No Holiday             Yes  \n",
      "2017-12-01 01:00:00  Winter  No Holiday             Yes  \n",
      "2017-12-01 02:00:00  Winter  No Holiday             Yes  \n",
      "2017-12-01 03:00:00  Winter  No Holiday             Yes  \n",
      "2017-12-01 04:00:00  Winter  No Holiday             Yes  \n"
     ]
    }
   ],
   "source": [
    "# Convertir 'date' al tipo datetime\n",
    "df['date'] = pd.to_datetime(df['date'], format='%d/%m/%Y')\n",
    "\n",
    "# Combinar fecha y hora en una sola columna para análisis de series de tiempo\n",
    "df['datetime'] = df['date'] + pd.to_timedelta(df['hour'], unit='h')\n",
    "df.set_index('datetime', inplace=True)\n",
    "df.drop(['date', 'hour'], axis=1, inplace=True)\n",
    "\n",
    "print(\"\\n--- DataFrame después de la conversión de tipos ---\")\n",
    "print(df.head())"
   ]
  },
  {
   "cell_type": "code",
   "execution_count": 6,
   "id": "cc92eac6",
   "metadata": {},
   "outputs": [
    {
     "name": "stdout",
     "output_type": "stream",
     "text": [
      "\n",
      "--- Conteo de Valores Nulos por Columna ---\n",
      "demanda                      0\n",
      "temperature(°c)              0\n",
      "humidity(%)                  0\n",
      "wind_speed_(m/s)             0\n",
      "visibility_(10m)             0\n",
      "dew_point_temperature(°c)    0\n",
      "solar_radiation_(mj/m2)      0\n",
      "rainfall(mm)                 0\n",
      "snowfall_(cm)                0\n",
      "seasons                      0\n",
      "holiday                      0\n",
      "functioning_day              0\n",
      "dtype: int64\n"
     ]
    }
   ],
   "source": [
    "# 1. Verificar Nulos (Métricas)\n",
    "print(\"\\n--- Conteo de Valores Nulos por Columna ---\")\n",
    "print(df.isnull().sum())\n",
    "# Si aparecen nulos, la acción recomendada (imputación con media/mediana o eliminación) depende de la cantidad.\n",
    "\n",
    "# 2. Manejo de Inconsistencias\n",
    "# Las variables 'functioning_day' deben ser binarias (Yes/No o Fun/NoFunc)\n",
    "# En este dataset son 'Yes' y 'No', lo cual es consistente.\n",
    "\n",
    "# Convertir 'functioning_day' y 'holiday' a numérico (0 y 1)\n",
    "df['functioning_day'] = df['functioning_day'].map({'Yes': 1, 'No': 0})\n",
    "df['holiday'] = df['holiday'].map({'No Holiday': 0, 'Holiday': 1})"
   ]
  },
  {
   "cell_type": "code",
   "execution_count": 7,
   "id": "76cbd705",
   "metadata": {},
   "outputs": [
    {
     "name": "stdout",
     "output_type": "stream",
     "text": [
      "\n",
      "--- Detección de Outliers en Demanda ---\n",
      "Límite Superior (1.5*IQR): 2377\n",
      "Número de outliers detectados: 158\n",
      "Máximo de Demanda (Original): 3556\n",
      "Máximo de Demanda (Limpia): 2377\n"
     ]
    }
   ],
   "source": [
    "# Aplicar la detección de outliers en la variable 'demanda'\n",
    "Q1 = df['demanda'].quantile(0.25)\n",
    "Q3 = df['demanda'].quantile(0.75)\n",
    "IQR = Q3 - Q1\n",
    "\n",
    "limite_superior = Q3 + 1.5 * IQR\n",
    "\n",
    "# 1. Conteo de Outliers\n",
    "outliers_count = df[df['demanda'] > limite_superior].shape[0]\n",
    "print(f\"\\n--- Detección de Outliers en Demanda ---\")\n",
    "print(f\"Límite Superior (1.5*IQR): {limite_superior:.0f}\")\n",
    "print(f\"Número de outliers detectados: {outliers_count}\")\n",
    "\n",
    "# 2. Opción de Limpieza (Imputación por tope o 'Capping')\n",
    "# En lugar de eliminar, reemplazamos los outliers con el límite superior (Capping).\n",
    "# Esto es común en modelos de regresión para mantener el tamaño del dataset.\n",
    "df['demanda_limpia'] = np.where(\n",
    "    df['demanda'] > limite_superior,\n",
    "    limite_superior,\n",
    "    df['demanda']\n",
    ")\n",
    "\n",
    "# Comparación del máximo antes y después\n",
    "print(f\"Máximo de Demanda (Original): {df['demanda'].max()}\")\n",
    "print(f\"Máximo de Demanda (Limpia): {df['demanda_limpia'].max():.0f}\")\n",
    "\n",
    "# Se puede eliminar la columna original 'demanda' si solo se usará la 'demanda_limpia'\n",
    "df.drop('demanda', axis=1, inplace=True)\n",
    "df.rename(columns={'demanda_limpia': 'demanda'}, inplace=True)"
   ]
  },
  {
   "cell_type": "markdown",
   "id": "bef9cd1b",
   "metadata": {},
   "source": [
    "# Transformaciones Finales (Feature Engineering)"
   ]
  },
  {
   "cell_type": "code",
   "execution_count": 8,
   "id": "65f24f77",
   "metadata": {},
   "outputs": [
    {
     "name": "stdout",
     "output_type": "stream",
     "text": [
      "\n",
      "--- DataFrame después del One-Hot Encoding de 'seasons' ---\n",
      "                     temperature(°c)  humidity(%)  wind_speed_(m/s)  \\\n",
      "datetime                                                              \n",
      "2017-12-01 00:00:00             -5.2           37               2.2   \n",
      "2017-12-01 01:00:00             -5.5           38               0.8   \n",
      "2017-12-01 02:00:00             -6.0           39               1.0   \n",
      "2017-12-01 03:00:00             -6.2           40               0.9   \n",
      "2017-12-01 04:00:00             -6.0           36               2.3   \n",
      "\n",
      "                     visibility_(10m)  dew_point_temperature(°c)  \\\n",
      "datetime                                                           \n",
      "2017-12-01 00:00:00              2000                      -17.6   \n",
      "2017-12-01 01:00:00              2000                      -17.6   \n",
      "2017-12-01 02:00:00              2000                      -17.7   \n",
      "2017-12-01 03:00:00              2000                      -17.6   \n",
      "2017-12-01 04:00:00              2000                      -18.6   \n",
      "\n",
      "                     solar_radiation_(mj/m2)  rainfall(mm)  snowfall_(cm)  \\\n",
      "datetime                                                                    \n",
      "2017-12-01 00:00:00                      0.0           0.0            0.0   \n",
      "2017-12-01 01:00:00                      0.0           0.0            0.0   \n",
      "2017-12-01 02:00:00                      0.0           0.0            0.0   \n",
      "2017-12-01 03:00:00                      0.0           0.0            0.0   \n",
      "2017-12-01 04:00:00                      0.0           0.0            0.0   \n",
      "\n",
      "                     holiday  functioning_day  demanda  season_Autumn  \\\n",
      "datetime                                                                \n",
      "2017-12-01 00:00:00        0                1    254.0          False   \n",
      "2017-12-01 01:00:00        0                1    204.0          False   \n",
      "2017-12-01 02:00:00        0                1    173.0          False   \n",
      "2017-12-01 03:00:00        0                1    107.0          False   \n",
      "2017-12-01 04:00:00        0                1     78.0          False   \n",
      "\n",
      "                     season_Spring  season_Summer  season_Winter  \n",
      "datetime                                                          \n",
      "2017-12-01 00:00:00          False          False           True  \n",
      "2017-12-01 01:00:00          False          False           True  \n",
      "2017-12-01 02:00:00          False          False           True  \n",
      "2017-12-01 03:00:00          False          False           True  \n",
      "2017-12-01 04:00:00          False          False           True  \n"
     ]
    }
   ],
   "source": [
    "# Aplicar One-Hot Encoding a la variable 'seasons'\n",
    "df_encoded = pd.get_dummies(df, columns=['seasons'], prefix='season')\n",
    "\n",
    "print(\"\\n--- DataFrame después del One-Hot Encoding de 'seasons' ---\")\n",
    "print(df_encoded.head())"
   ]
  },
  {
   "cell_type": "code",
   "execution_count": 9,
   "id": "293b03bf",
   "metadata": {},
   "outputs": [
    {
     "name": "stdout",
     "output_type": "stream",
     "text": [
      "\n",
      "--- DataFrame después del Feature Engineering ---\n",
      "                     temperature(°c)  humidity(%)  wind_speed_(m/s)  \\\n",
      "datetime                                                              \n",
      "2017-12-01 00:00:00             -5.2           37               2.2   \n",
      "2017-12-01 01:00:00             -5.5           38               0.8   \n",
      "2017-12-01 02:00:00             -6.0           39               1.0   \n",
      "2017-12-01 03:00:00             -6.2           40               0.9   \n",
      "2017-12-01 04:00:00             -6.0           36               2.3   \n",
      "\n",
      "                     visibility_(10m)  dew_point_temperature(°c)  \\\n",
      "datetime                                                           \n",
      "2017-12-01 00:00:00              2000                      -17.6   \n",
      "2017-12-01 01:00:00              2000                      -17.6   \n",
      "2017-12-01 02:00:00              2000                      -17.7   \n",
      "2017-12-01 03:00:00              2000                      -17.6   \n",
      "2017-12-01 04:00:00              2000                      -18.6   \n",
      "\n",
      "                     solar_radiation_(mj/m2)  rainfall(mm)  snowfall_(cm)  \\\n",
      "datetime                                                                    \n",
      "2017-12-01 00:00:00                      0.0           0.0            0.0   \n",
      "2017-12-01 01:00:00                      0.0           0.0            0.0   \n",
      "2017-12-01 02:00:00                      0.0           0.0            0.0   \n",
      "2017-12-01 03:00:00                      0.0           0.0            0.0   \n",
      "2017-12-01 04:00:00                      0.0           0.0            0.0   \n",
      "\n",
      "                     holiday  functioning_day  demanda  season_Autumn  \\\n",
      "datetime                                                                \n",
      "2017-12-01 00:00:00        0                1    254.0          False   \n",
      "2017-12-01 01:00:00        0                1    204.0          False   \n",
      "2017-12-01 02:00:00        0                1    173.0          False   \n",
      "2017-12-01 03:00:00        0                1    107.0          False   \n",
      "2017-12-01 04:00:00        0                1     78.0          False   \n",
      "\n",
      "                     season_Spring  season_Summer  season_Winter  month  \\\n",
      "datetime                                                                  \n",
      "2017-12-01 00:00:00          False          False           True     12   \n",
      "2017-12-01 01:00:00          False          False           True     12   \n",
      "2017-12-01 02:00:00          False          False           True     12   \n",
      "2017-12-01 03:00:00          False          False           True     12   \n",
      "2017-12-01 04:00:00          False          False           True     12   \n",
      "\n",
      "                     day_of_week  is_weekend  \n",
      "datetime                                      \n",
      "2017-12-01 00:00:00            4           0  \n",
      "2017-12-01 01:00:00            4           0  \n",
      "2017-12-01 02:00:00            4           0  \n",
      "2017-12-01 03:00:00            4           0  \n",
      "2017-12-01 04:00:00            4           0  \n"
     ]
    }
   ],
   "source": [
    "# Crear variables adicionales de tiempo\n",
    "df_encoded['month'] = df_encoded.index.month\n",
    "df_encoded['day_of_week'] = df_encoded.index.day_of_week # 0=Lunes, 6=Domingo\n",
    "df_encoded['is_weekend'] = df_encoded['day_of_week'].apply(lambda x: 1 if x >= 5 else 0) # Sábado y Domingo\n",
    "\n",
    "print(\"\\n--- DataFrame después del Feature Engineering ---\")\n",
    "print(df_encoded.head())"
   ]
  }
 ],
 "metadata": {
  "kernelspec": {
   "display_name": "Python 3",
   "language": "python",
   "name": "python3"
  },
  "language_info": {
   "codemirror_mode": {
    "name": "ipython",
    "version": 3
   },
   "file_extension": ".py",
   "mimetype": "text/x-python",
   "name": "python",
   "nbconvert_exporter": "python",
   "pygments_lexer": "ipython3",
   "version": "3.13.0"
  }
 },
 "nbformat": 4,
 "nbformat_minor": 5
}
